{
 "cells": [
  {
   "cell_type": "code",
   "execution_count": 174,
   "metadata": {
    "collapsed": true
   },
   "outputs": [],
   "source": [
    "import requests\n",
    "import base64\n",
    "from stubhublogin import *\n",
    "import pandas as pd\n",
    "import pprint\n",
    "import datetime\n",
    "import json\n",
    "import matplotlib.pyplot as plt\n",
    "\n",
    "%matplotlib inline"
   ]
  },
  {
   "cell_type": "code",
   "execution_count": 9,
   "metadata": {
    "collapsed": true
   },
   "outputs": [],
   "source": [
    "combo = consumer_key + \":\" + consumer_secret\n",
    "basic_authorization_token = base64.b64encode(combo.encode(\"utf-8\"))"
   ]
  },
  {
   "cell_type": "code",
   "execution_count": 26,
   "metadata": {},
   "outputs": [],
   "source": [
    "url = \"https://api.stubhub.com/login\"\n",
    "headers = {\n",
    "    \"Content-Type\": \"application/x-www-form-urlencoded\",\n",
    "    \"Authorization\": \"Basic \" + basic_authorization_token.decode(\"utf-8\"),\n",
    "}\n",
    "\n",
    "body = {\n",
    "    \"grant_type\": \"password\",\n",
    "    \"username\": login,\n",
    "    \"password\": password,\n",
    "    \"scope\": \"PRODUCTION\"\n",
    "}"
   ]
  },
  {
   "cell_type": "code",
   "execution_count": 27,
   "metadata": {},
   "outputs": [],
   "source": [
    "r = requests.post(url,headers=headers,data=body)"
   ]
  },
  {
   "cell_type": "code",
   "execution_count": 30,
   "metadata": {},
   "outputs": [],
   "source": [
    "token_response = r.json()\n",
    "access_token = token_response[\"access_token\"]\n",
    "user_GUID = r.headers[\"X-StubHub-User-GUID\"]"
   ]
  },
  {
   "cell_type": "code",
   "execution_count": 31,
   "metadata": {
    "collapsed": true
   },
   "outputs": [],
   "source": [
    "inventory_url = \"https://api.stubhub.com/search/inventory/v2\""
   ]
  },
  {
   "cell_type": "code",
   "execution_count": 32,
   "metadata": {
    "collapsed": true
   },
   "outputs": [],
   "source": [
    "headers[\"Authorization\"] = \"Bearer \" + access_token\n",
    "headers[\"Accept\"] = \"application/json\"\n",
    "headers[\"Accept-Encoding\"] = \"application/json\""
   ]
  },
  {
   "cell_type": "code",
   "execution_count": 69,
   "metadata": {
    "collapsed": true
   },
   "outputs": [],
   "source": [
    "event_id = \"9833832\"\n",
    "data = {\"eventid\": event_id}"
   ]
  },
  {
   "cell_type": "code",
   "execution_count": 171,
   "metadata": {
    "collapsed": true
   },
   "outputs": [],
   "source": [
    "inventory = requests.get(inventory_url,headers=headers,params=data)\n",
    "inv = inventory.json()"
   ]
  },
  {
   "cell_type": "code",
   "execution_count": 172,
   "metadata": {},
   "outputs": [],
   "source": [
    "listing_df = pd.DataFrame(inv[\"listing\"])\n",
    "listing_df['listingPrice'] = listing_df.apply(lambda x: x['listingPrice']['amount'], axis=1)\n",
    "listing_df['currentPrice'] = listing_df.apply(lambda x: x['currentPrice']['amount'], axis=1)"
   ]
  },
  {
   "cell_type": "code",
   "execution_count": 176,
   "metadata": {},
   "outputs": [
    {
     "data": {
      "text/plain": [
       "<matplotlib.lines.Line2D at 0x7fc2fc2b56d8>"
      ]
     },
     "execution_count": 176,
     "metadata": {},
     "output_type": "execute_result"
    },
    {
     "data": {
      "image/png": "[encoded data removed]",
      "text/plain": [
       "<matplotlib.figure.Figure at 0x7fc2fc2b5c50>"
      ]
     },
     "metadata": {},
     "output_type": "display_data"
    }
   ],
   "source": [
    "# listingPrice - price they sell for\n",
    "# currentPrice - price with fees\n",
    "# finalPrice - currentPrice * 1.03"
   ]
  },
  {
   "cell_type": "code",
   "execution_count": 163,
   "metadata": {},
   "outputs": [],
   "source": [
    "from imp import reload\n",
    "import find_tm\n",
    "reload(find_tm)\n",
    "from find_tm import find_event_id, find_price_ranges"
   ]
  },
  {
   "cell_type": "code",
   "execution_count": 181,
   "metadata": {},
   "outputs": [],
   "source": [
    "events = find_tm.find_price_ranges({\"keyword\":\"seinfeld beacon\"})"
   ]
  },
  {
   "cell_type": "code",
   "execution_count": 183,
   "metadata": {},
   "outputs": [
    {
     "data": {
      "image/png": "[encoded data removed]",
      "text/plain": [
       "<matplotlib.figure.Figure at 0x7fc2f6588f60>"
      ]
     },
     "metadata": {},
     "output_type": "display_data"
    }
   ],
   "source": [
    "plt.hist(listing_df.currentPrice, bins=20, color='c', )\n",
    "\n",
    "event = events[0]\n",
    "for price in event[\"price\"]:\n",
    "    plt.axvline(float(price), color='b', linestyle='dashed', linewidth=2)"
   ]
  },
  {
   "cell_type": "code",
   "execution_count": 124,
   "metadata": {},
   "outputs": [
    {
     "data": {
      "text/plain": [
       "dict_keys(['_embedded', 'page', '_links'])"
      ]
     },
     "execution_count": 124,
     "metadata": {},
     "output_type": "execute_result"
    }
   ],
   "source": [
    "event.keys()"
   ]
  },
  {
   "cell_type": "code",
   "execution_count": null,
   "metadata": {
    "collapsed": true
   },
   "outputs": [],
   "source": []
  }
 ],
 "metadata": {
  "kernelspec": {
   "display_name": "Python 3",
   "language": "python",
   "name": "python3"
  },
  "language_info": {
   "codemirror_mode": {
    "name": "ipython",
    "version": 3
   },
   "file_extension": ".py",
   "mimetype": "text/x-python",
   "name": "python",
   "nbconvert_exporter": "python",
   "pygments_lexer": "ipython3",
   "version": "3.5.3"
  }
 },
 "nbformat": 4,
 "nbformat_minor": 2
}
